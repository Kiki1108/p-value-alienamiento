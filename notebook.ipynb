{
 "cells": [
  {
   "cell_type": "code",
   "execution_count": 1,
   "id": "2f2f377b",
   "metadata": {},
   "outputs": [],
   "source": [
    "import subprocess\n",
    "import tempfile\n",
    "import random\n",
    "import matplotlib.pyplot as plt\n",
    "import numpy as np\n",
    "import time"
   ]
  },
  {
   "cell_type": "markdown",
   "id": "8ddbe823",
   "metadata": {},
   "source": [
    "Primero defino algunas funciones útiles: <br>\n",
    "<ul>\n",
    "    <li> write_fasta() --> hace un temporal para pasarlo a needle </il>\n",
    "    <li> run_needle() --> corre el needle </li>\n",
    "    <li> secuencia_azar --> da una secuencia al azar </li>\n",
    "    <li> get_score --> a partir de un archivo temporal retorna el score </li>\n",
    "</ul>\n"
   ]
  },
  {
   "cell_type": "code",
   "execution_count": 14,
   "id": "64975b84",
   "metadata": {},
   "outputs": [],
   "source": [
    "secuencia_a = 'GCTAATCAGTGCATCGATCT'\n",
    "secuencia_b = 'GTTGACATCTGCATGCTAGA'\n",
    "\n",
    "# Guardar las secuencias en archivos FASTA temporales\n",
    "def write_fasta(seq, name):\n",
    "    f = tempfile.NamedTemporaryFile(delete=False, mode='w', suffix='.fasta')\n",
    "    f.write(f'>{name}\\n{seq}\\n')\n",
    "    f.close()\n",
    "    return f.name\n",
    "\n",
    "# Ejecutar needle\n",
    "def run_needle(fasta1, fasta2, outfile):\n",
    "    cmd = [\n",
    "        'needle',\n",
    "        '-asequence', fasta1,\n",
    "        '-bsequence', fasta2,\n",
    "        '-gapopen', '10',\n",
    "        '-gapextend', '0.5',\n",
    "        '-outfile', outfile\n",
    "    ]\n",
    "    subprocess.run(cmd, check=True)\n",
    "\n",
    "# Función para generar una secuencia aleatoria de 20 bases\n",
    "def secuencia_azar(k=20):\n",
    "    return ''.join(random.choices(['A', 'C', 'G', 'T'], k=k))\n",
    "\n",
    "# Función para correr needle y obtener el score\n",
    "def get_score(seq_a, seq_b):\n",
    "    out_file = '/tmp/needle_out.txt'\n",
    "    run_needle(seq_a, seq_b, out_file)\n",
    "    score = None\n",
    "    with open(out_file) as f:\n",
    "        for line in f:\n",
    "            if line.startswith('# Score:'):\n",
    "                score = float(line.split()[-1])\n",
    "                break\n",
    "    return score"
   ]
  },
  {
   "cell_type": "code",
   "execution_count": 16,
   "id": "4ff14b58",
   "metadata": {},
   "outputs": [
    {
     "name": "stdout",
     "output_type": "stream",
     "text": [
      "Score de la alineación entre la secuencia base: 16.0\n"
     ]
    },
    {
     "name": "stderr",
     "output_type": "stream",
     "text": [
      "Needleman-Wunsch global alignment of two sequences\n"
     ]
    }
   ],
   "source": [
    "# Primero vamos a ver el score de nuestra secuencia base\n",
    "\n",
    "seq_a = write_fasta(secuencia_a, 'seq1')\n",
    "seq_b = write_fasta(secuencia_b, 'seq2')\n",
    "\n",
    "# Leer y mostrar el resultado y extraer el score\n",
    "score = get_score(seq_a, seq_b)\n",
    "print(f\"Score de la alineación entre la secuencia base: {score}\")\n"
   ]
  },
  {
   "cell_type": "code",
   "execution_count": null,
   "id": "8e9237c5",
   "metadata": {},
   "outputs": [
    {
     "name": "stderr",
     "output_type": "stream",
     "text": [
      "Needleman-Wunsch global alignment of two sequences\n",
      "Error: Failed to open filename 'GGTTGCACGGGTTTCATCGT'\n",
      "Error: Unable to read sequence 'GGTTGCACGGGTTTCATCGT'\n",
      "Died: needle terminated: Bad value for '-asequence' and no prompt\n"
     ]
    },
    {
     "ename": "CalledProcessError",
     "evalue": "Command '['needle', '-asequence', 'GGTTGCACGGGTTTCATCGT', '-bsequence', 'GTTGACATCTGCATGCTAGA', '-gapopen', '10', '-gapextend', '0.5', '-outfile', '/tmp/needle_out.txt']' returned non-zero exit status 1.",
     "output_type": "error",
     "traceback": [
      "\u001b[0;31m---------------------------------------------------------------------------\u001b[0m",
      "\u001b[0;31mCalledProcessError\u001b[0m                        Traceback (most recent call last)",
      "Cell \u001b[0;32mIn[17], line 13\u001b[0m\n\u001b[1;32m     11\u001b[0m \u001b[38;5;28;01mfor\u001b[39;00m i \u001b[38;5;129;01min\u001b[39;00m \u001b[38;5;28mrange\u001b[39m(max_iter):\n\u001b[1;32m     12\u001b[0m     seq_rand \u001b[38;5;241m=\u001b[39m secuencia_azar()\n\u001b[0;32m---> 13\u001b[0m     score \u001b[38;5;241m=\u001b[39m \u001b[43mget_score\u001b[49m\u001b[43m(\u001b[49m\u001b[43mseq_rand\u001b[49m\u001b[43m,\u001b[49m\u001b[43m \u001b[49m\u001b[43msecuencia_b\u001b[49m\u001b[43m)\u001b[49m\n\u001b[1;32m     14\u001b[0m     es_significativo \u001b[38;5;241m=\u001b[39m \u001b[38;5;241m1\u001b[39m \u001b[38;5;28;01mif\u001b[39;00m score \u001b[38;5;241m>\u001b[39m\u001b[38;5;241m=\u001b[39m umbral_score \u001b[38;5;28;01melse\u001b[39;00m \u001b[38;5;241m0\u001b[39m\n\u001b[1;32m     15\u001b[0m     resultados\u001b[38;5;241m.\u001b[39mappend(es_significativo)\n",
      "Cell \u001b[0;32mIn[14], line 30\u001b[0m, in \u001b[0;36mget_score\u001b[0;34m(seq_a, seq_b)\u001b[0m\n\u001b[1;32m     28\u001b[0m \u001b[38;5;28;01mdef\u001b[39;00m \u001b[38;5;21mget_score\u001b[39m(seq_a, seq_b):\n\u001b[1;32m     29\u001b[0m     out_file \u001b[38;5;241m=\u001b[39m \u001b[38;5;124m'\u001b[39m\u001b[38;5;124m/tmp/needle_out.txt\u001b[39m\u001b[38;5;124m'\u001b[39m\n\u001b[0;32m---> 30\u001b[0m     \u001b[43mrun_needle\u001b[49m\u001b[43m(\u001b[49m\u001b[43mseq_a\u001b[49m\u001b[43m,\u001b[49m\u001b[43m \u001b[49m\u001b[43mseq_b\u001b[49m\u001b[43m,\u001b[49m\u001b[43m \u001b[49m\u001b[43mout_file\u001b[49m\u001b[43m)\u001b[49m\n\u001b[1;32m     31\u001b[0m     score \u001b[38;5;241m=\u001b[39m \u001b[38;5;28;01mNone\u001b[39;00m\n\u001b[1;32m     32\u001b[0m     \u001b[38;5;28;01mwith\u001b[39;00m \u001b[38;5;28mopen\u001b[39m(out_file) \u001b[38;5;28;01mas\u001b[39;00m f:\n",
      "Cell \u001b[0;32mIn[14], line 21\u001b[0m, in \u001b[0;36mrun_needle\u001b[0;34m(fasta1, fasta2, outfile)\u001b[0m\n\u001b[1;32m     12\u001b[0m \u001b[38;5;28;01mdef\u001b[39;00m \u001b[38;5;21mrun_needle\u001b[39m(fasta1, fasta2, outfile):\n\u001b[1;32m     13\u001b[0m     cmd \u001b[38;5;241m=\u001b[39m [\n\u001b[1;32m     14\u001b[0m         \u001b[38;5;124m'\u001b[39m\u001b[38;5;124mneedle\u001b[39m\u001b[38;5;124m'\u001b[39m,\n\u001b[1;32m     15\u001b[0m         \u001b[38;5;124m'\u001b[39m\u001b[38;5;124m-asequence\u001b[39m\u001b[38;5;124m'\u001b[39m, fasta1,\n\u001b[0;32m   (...)\u001b[0m\n\u001b[1;32m     19\u001b[0m         \u001b[38;5;124m'\u001b[39m\u001b[38;5;124m-outfile\u001b[39m\u001b[38;5;124m'\u001b[39m, outfile\n\u001b[1;32m     20\u001b[0m     ]\n\u001b[0;32m---> 21\u001b[0m     \u001b[43msubprocess\u001b[49m\u001b[38;5;241;43m.\u001b[39;49m\u001b[43mrun\u001b[49m\u001b[43m(\u001b[49m\u001b[43mcmd\u001b[49m\u001b[43m,\u001b[49m\u001b[43m \u001b[49m\u001b[43mcheck\u001b[49m\u001b[38;5;241;43m=\u001b[39;49m\u001b[38;5;28;43;01mTrue\u001b[39;49;00m\u001b[43m)\u001b[49m\n",
      "File \u001b[0;32m/usr/lib/python3.12/subprocess.py:571\u001b[0m, in \u001b[0;36mrun\u001b[0;34m(input, capture_output, timeout, check, *popenargs, **kwargs)\u001b[0m\n\u001b[1;32m    569\u001b[0m     retcode \u001b[38;5;241m=\u001b[39m process\u001b[38;5;241m.\u001b[39mpoll()\n\u001b[1;32m    570\u001b[0m     \u001b[38;5;28;01mif\u001b[39;00m check \u001b[38;5;129;01mand\u001b[39;00m retcode:\n\u001b[0;32m--> 571\u001b[0m         \u001b[38;5;28;01mraise\u001b[39;00m CalledProcessError(retcode, process\u001b[38;5;241m.\u001b[39margs,\n\u001b[1;32m    572\u001b[0m                                  output\u001b[38;5;241m=\u001b[39mstdout, stderr\u001b[38;5;241m=\u001b[39mstderr)\n\u001b[1;32m    573\u001b[0m \u001b[38;5;28;01mreturn\u001b[39;00m CompletedProcess(process\u001b[38;5;241m.\u001b[39margs, retcode, stdout, stderr)\n",
      "\u001b[0;31mCalledProcessError\u001b[0m: Command '['needle', '-asequence', 'GGTTGCACGGGTTTCATCGT', '-bsequence', 'GTTGACATCTGCATGCTAGA', '-gapopen', '10', '-gapextend', '0.5', '-outfile', '/tmp/needle_out.txt']' returned non-zero exit status 1."
     ]
    }
   ],
   "source": [
    "# Parámetros\n",
    "umbral_score = 16   # Es el score que nos da la secuencia base\n",
    "max_iter = 100     # Cantidad de iteraciones\n",
    "\n",
    "# Inicialización\n",
    "resultados = []\n",
    "std_array = []\n",
    "media = None\n",
    "std = None\n",
    "\n",
    "for i in range(max_iter):\n",
    "    seq_rand = secuencia_azar()\n",
    "    score = get_score('GCTAATCAGTGCATCGATCT', secuencia_b)\n",
    "    es_significativo = 1 if score >= umbral_score else 0\n",
    "    resultados.append(es_significativo)\n",
    "    if len(resultados) > 1:\n",
    "        std = np.std(resultados, ddof=1)\n",
    "        std_array.append(std)\n",
    "\n",
    "print(f'Muestras tomadas: {len(resultados)}')\n",
    "print(f'p-value estimado: {np.mean(resultados)}')\n",
    "print(f'desviación estándar: {std}')\n",
    "\n",
    "# Graficar std_array\n",
    "plt.plot(std_array)\n",
    "plt.xlabel('Iteraciones')\n",
    "plt.ylabel('Desviación estándar')\n",
    "plt.title('Desviación estándar de los scores')\n",
    "plt.axhline(y=umbral_std, color='r', linestyle='--', label='Umbral de std')\n",
    "plt.legend()\n",
    "plt.show()"
   ]
  },
  {
   "cell_type": "code",
   "execution_count": null,
   "id": "0b7ae06f",
   "metadata": {},
   "outputs": [],
   "source": [
    "import math\n",
    "from scipy.stats import norm\n",
    "\n",
    "# Nivel de confianza deseado (por ejemplo, 0.995 para 99.5%)\n",
    "confianza = 0.995\n",
    "alfa = 1 - confianza\n",
    "\n",
    "# Proporción más conservadora\n",
    "p = 0.628\n",
    "E = 0.01  # Margen de error deseado\n",
    "\n",
    "# Calcular Z usando alfa\n",
    "Z = norm.ppf(1 - alfa/2)\n",
    "print(f'Para un nivel de confianza de {confianza*100:.1f}%, Z = {Z:.3f}')\n",
    "\n",
    "n = (Z**2 * p * (1 - p)) / (E**2)\n",
    "print('Tamaño de muestra mínimo:', math.ceil(n))"
   ]
  },
  {
   "cell_type": "code",
   "execution_count": null,
   "id": "d46b8c43",
   "metadata": {},
   "outputs": [],
   "source": [
    "# Generar 10,000 secuencias al azar de 20 bases\n",
    "bases = ['A', 'C', 'G', 'T']\n",
    "secuencias_azar = [''.join(random.choices(bases, k=20)) for _ in range(18408)]\n",
    "# Ahora secuencias_azar contiene las secuencias aleatorias\n",
    "\n",
    "# Evaluar cada secuencia aleatoria contra secuencia_b y guardar los scores\n",
    "scores_azar = []\n",
    "# Crear archivo fasta de secuencia_b solo una vez\n",
    "seq_b_fasta = write_fasta(secuecnia_b, 'seq_b')\n",
    "for i, seq in enumerate(secuencias_azar):\n",
    "    seq_a_fasta = write_fasta(seq, f'seq_azar_{i}')\n",
    "    temp_out = tempfile.NamedTemporaryFile(delete=False, mode='w', suffix='.txt').name\n",
    "    run_needle(seq_a_fasta, seq_b_fasta, temp_out)\n",
    "    score = None\n",
    "    with open(temp_out) as f:\n",
    "        for line in f:\n",
    "            if line.startswith('# Score:'):\n",
    "                score = float(line.split()[-1])\n",
    "                break\n",
    "    scores_azar.append(score)\n",
    "    print(i)\n",
    "\n",
    "# Ahora scores_azar contiene los scores de cada alineamiento\n",
    "print('Primeros 10 scores de secuencias al azar:', scores_azar[:100])\n",
    "\n",
    "# Graficar histograma de los scores\n",
    "plt.hist(scores_azar, bins=100, edgecolor='black')\n",
    "plt.xlabel('Score de alineamiento')\n",
    "plt.ylabel('Frecuencia')\n",
    "plt.title('Histograma de scores de alineamiento (secuencias al azar vs secuencia_b)')\n",
    "plt.show()"
   ]
  }
 ],
 "metadata": {
  "kernelspec": {
   "display_name": "Python 3",
   "language": "python",
   "name": "python3"
  },
  "language_info": {
   "codemirror_mode": {
    "name": "ipython",
    "version": 3
   },
   "file_extension": ".py",
   "mimetype": "text/x-python",
   "name": "python",
   "nbconvert_exporter": "python",
   "pygments_lexer": "ipython3",
   "version": "3.12.3"
  }
 },
 "nbformat": 4,
 "nbformat_minor": 5
}
